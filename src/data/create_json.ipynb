{
 "metadata": {
  "language_info": {
   "codemirror_mode": {
    "name": "ipython",
    "version": 3
   },
   "file_extension": ".py",
   "mimetype": "text/x-python",
   "name": "python",
   "nbconvert_exporter": "python",
   "pygments_lexer": "ipython3",
   "version": "3.8.5-final"
  },
  "orig_nbformat": 2,
  "kernelspec": {
   "name": "python3",
   "display_name": "Python 3",
   "language": "python"
  }
 },
 "nbformat": 4,
 "nbformat_minor": 2,
 "cells": [
  {
   "source": [
    "## Read csv files into dataframes"
   ],
   "cell_type": "markdown",
   "metadata": {}
  },
  {
   "cell_type": "code",
   "execution_count": 6,
   "metadata": {
    "tags": []
   },
   "outputs": [],
   "source": [
    "import pandas as pd\n",
    "import numpy as np\n",
    "import json\n",
    "from pathlib import Path\n",
    "\n",
    "ofcl_data_folder = Path('official-data')\n",
    "csv_vac = ofcl_data_folder / 'vac.csv'\n",
    "csv_vue = ofcl_data_folder / 'vue-densemble.csv'\n",
    "csv_indic = ofcl_data_folder / 'indicators.csv'\n",
    "csv_spf = ofcl_data_folder / 'spf.csv'\n",
    "\n",
    "df_vac = pd.read_csv(csv_vac, index_col=0)\n",
    "df_vue = pd.read_csv(csv_vue, index_col=0)\n",
    "df_indic = pd.read_csv(csv_indic, index_col=0)\n",
    "df_spf = pd.read_csv(csv_spf, index_col=0)"
   ]
  },
  {
   "source": [
    "## Define data types explicitly\n",
    "Use `pd.Int32Dtype()` to prevent type promotion `int64` -> `float64` when `NaN` is present.\n",
    "\n",
    "No need to set `str` type. This also avoids `NaN` -> `'nan'`."
   ],
   "cell_type": "markdown",
   "metadata": {}
  },
  {
   "cell_type": "code",
   "execution_count": 7,
   "metadata": {},
   "outputs": [],
   "source": [
    "types_spf = {\n",
    "    'hospiWeek': pd.Int32Dtype(),\n",
    "    'icuWeek': pd.Int32Dtype(),\n",
    "    'vacEhpadUsldPct': float,\n",
    "    # 'vacEhpadUsldPct_date': str,\n",
    "    'casesRtPcrCumul': pd.Int32Dtype(),\n",
    "    'casesAntigCumul': pd.Int32Dtype(),\n",
    "    'highVul': pd.Int32Dtype(),\n",
    "    'clusters': pd.Int32Dtype(),\n",
    "    'clusters_ehpad': pd.Int32Dtype(), \n",
    "    # 'clusters_date': str,\n",
    "}\n",
    "\n",
    "df_vac = df_vac.astype(pd.Int32Dtype())\n",
    "df_vue = df_vue.astype(pd.Int32Dtype())\n",
    "df_indic = df_indic.astype(float)\n",
    "df_spf = df_spf.astype(types_spf)"
   ]
  },
  {
   "source": [
    "## Combine columns into `list`"
   ],
   "cell_type": "markdown",
   "metadata": {}
  },
  {
   "source": [
    "def combine_columns(df, cols):\n",
    "    '''\n",
    "    Combine columns of a dataframe `df` into list in place,\n",
    "    where `cols` is a list of columns to combine. \n",
    "    The new column keeps the column name `cols[0]`,\n",
    "    and other columns in `cols` are dropped in place. \n",
    "    '''\n",
    "    na_value = 'nan'\n",
    "\n",
    "    def na_list (list_of_lists):\n",
    "        return [np.nan if na_value in x else x for x in list_of_lists]\n",
    "\n",
    "    df[cols[0]] = na_list(df[cols].to_numpy(na_value = na_value).tolist())\n",
    "    df.drop(cols[1:], axis=1, inplace=True)\n",
    "\n",
    "combine_columns(df_spf, ['vacEhpadUsldPct', 'vacEhpadUsldPct_date'])\n",
    "combine_columns(df_spf, ['clusters', 'clusters_ehpad', 'clusters_date'])"
   ],
   "cell_type": "code",
   "metadata": {},
   "execution_count": 8,
   "outputs": []
  },
  {
   "source": [
    "## Merge dataframes into `df`"
   ],
   "cell_type": "markdown",
   "metadata": {}
  },
  {
   "cell_type": "code",
   "execution_count": 9,
   "metadata": {},
   "outputs": [],
   "source": [
    "df = pd.concat([df_vac, df_vue, df_indic, df_spf], axis=1, sort=True)"
   ]
  },
  {
   "source": [
    "## Write `df` to json"
   ],
   "cell_type": "markdown",
   "metadata": {}
  },
  {
   "cell_type": "code",
   "execution_count": 10,
   "metadata": {},
   "outputs": [],
   "source": [
    "# beautified json is only for git diff\n",
    "\n",
    "json_ofcl_data = ofcl_data_folder / 'official-data.json'\n",
    "json_ofcl_data_beautified = ofcl_data_folder / 'official-data_beautified.json'\n",
    "\n",
    "json_content = json.dumps({ index: row.dropna().to_dict() for index, row in df.iterrows() })\n",
    "json_content_beautified = json.dumps({ index: row.dropna().to_dict() for index, row in df.iterrows() }, indent=4)\n",
    "\n",
    "with open(json_ofcl_data, 'w') as f:\n",
    "    f.write(json_content)\n",
    "with open(json_ofcl_data_beautified, 'w') as f:\n",
    "    f.write(json_content_beautified)"
   ]
  }
 ]
}