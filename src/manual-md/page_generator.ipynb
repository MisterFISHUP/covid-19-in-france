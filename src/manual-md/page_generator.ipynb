{
 "metadata": {
  "language_info": {
   "codemirror_mode": {
    "name": "ipython",
    "version": 3
   },
   "file_extension": ".py",
   "mimetype": "text/x-python",
   "name": "python",
   "nbconvert_exporter": "python",
   "pygments_lexer": "ipython3",
   "version": "3.8.5-final"
  },
  "orig_nbformat": 2,
  "kernelspec": {
   "name": "python3",
   "display_name": "Python 3.8.5 64-bit ('covid-19-in-france': pipenv)",
   "metadata": {
    "interpreter": {
     "hash": "8c9788e7b8c462d723a90042bcfd8968aadf78e683c0f6c091bc27b97b6b3c60"
    }
   }
  }
 },
 "nbformat": 4,
 "nbformat_minor": 2,
 "cells": [
  {
   "source": [
    "## Import modules and define constants"
   ],
   "cell_type": "markdown",
   "metadata": {}
  },
  {
   "cell_type": "code",
   "execution_count": 78,
   "metadata": {},
   "outputs": [],
   "source": [
    "# if this is a py file, it's generated from notebook (ipynb file)\n",
    "\n",
    "import shutil\n",
    "from pathlib import Path\n",
    "from datetime import date, timedelta\n",
    "\n",
    "journal_start = date(2020, 3, 1)\n",
    "start_year = 2020\n",
    "cur_year = 2021\n",
    "one_day = timedelta(days=1)\n",
    "\n",
    " # not using strftime(\"%B\") for months since it depends on the current locale\n",
    "month_en = ('January', 'February', 'March', 'April', 'May', 'June', 'July', 'August', 'September', 'October', 'November', 'December')\n",
    "weekday_zh_hant = ('週一', '週二', '週三', '週四', '週五', '週六', '週日')"
   ]
  },
  {
   "source": [
    "## Get manual md path and content"
   ],
   "cell_type": "markdown",
   "metadata": {}
  },
  {
   "cell_type": "code",
   "execution_count": 79,
   "metadata": {},
   "outputs": [],
   "source": [
    "def path_manual(y, m, d):\n",
    "    return Path('manual', str(y), str(m), f'{d}.md')\n",
    "\n",
    "def manual_content(y, m, d):\n",
    "    md_file = path_manual(y, m, d)\n",
    "    if Path(md_file).is_file():\n",
    "        with open(md_file, 'r') as f:\n",
    "            content = f.read()\n",
    "        return content\n",
    "    else:\n",
    "        return \"\"\n",
    "# manual_content(2021,3,1)"
   ]
  },
  {
   "source": [
    "## Generate the starting string (for mdx that will be generated)"
   ],
   "cell_type": "markdown",
   "metadata": {}
  },
  {
   "cell_type": "code",
   "execution_count": 80,
   "metadata": {},
   "outputs": [],
   "source": [
    "def start_str(y, m, d):\n",
    "    '''Return the starting string for the page of y/m/d'''\n",
    "    dt = date(y, m, d)\n",
    "\n",
    "    front_matter = f'''---\n",
    "title: {m} 月 {d} 號（{weekday_zh_hant[dt.weekday()]}）\n",
    "description: {y} 年 {m} 月 {d} 日法國新冠肺炎疫情匯報。法國 COVID-19 日誌第 {(dt - journal_start).days + 1} 篇。\n",
    "---\n",
    "'''\n",
    "    export_import = f'''\n",
    "export const date = \"{dt.strftime('%Y-%m-%d')}\";\n",
    "import {{ Subtitle, Grace, Fish, OfficialData, SourceFb, Figure, ChartCases }} from \"@site/src/scripts/components\";\n",
    "'''\n",
    "    subtitle = '''\n",
    "<Subtitle date={date} />\n",
    "'''\n",
    "    sourceOfData = '''\n",
    "<div className=\"comment--translc_gray\">📈 數據來源：請參考附錄<a href=\"../../sources\">資料來源</a>。</div>\n",
    "'''\n",
    "    chartCases = '''\n",
    "<ChartCases date={date} />\n",
    "'''\n",
    "    official_data='''\n",
    "## 法國官方數據 {#official-data}\n",
    "\n",
    "<OfficialData date={date} />\n",
    "'''\n",
    "    main_img = '''\n",
    "<Figure date={date}></Figure>\n",
    "'''\n",
    "    news_header = '''\n",
    "<SourceFb date={date} />\n",
    "\n",
    "## 本日新聞重點 {#new}\n",
    "'''\n",
    "    news_header = news_header + \"\\n\" if path_manual(y, m, d).is_file() else \"\"\n",
    "\n",
    "    if dt == date(2020,3,1):\n",
    "        return  front_matter + export_import + subtitle + main_img\n",
    "    else:\n",
    "        return front_matter + export_import + subtitle + main_img + sourceOfData + chartCases + official_data + news_header\n",
    "# print(start_str(2020,3,2))"
   ]
  },
  {
   "source": [
    "## Copy `manual/{cur_year}/intro.md` to `docs/{cur_year}/intro.md`"
   ],
   "cell_type": "markdown",
   "metadata": {}
  },
  {
   "cell_type": "code",
   "execution_count": 81,
   "metadata": {},
   "outputs": [],
   "source": [
    "def create_intro_md():\n",
    "    '''Copy `manual/{cur_year}/intro.md` to `docs/{cur_year}/intro.md`. '''\n",
    "    manual_intro_md = Path('manual', str(cur_year), 'intro.md')\n",
    "    docs_intro_dir = Path('..', '..', 'docs', str(cur_year))\n",
    "    docs_intro_md = Path(docs_intro_dir, 'intro.md')\n",
    "\n",
    "    if not manual_intro_md.is_file():\n",
    "        raise Exception(f\"File `manual/{cur_year}/intro.md` doesn't exist, can't copy it to `docs/{cur_year}/intro.md`.\")\n",
    "    else:\n",
    "        docs_intro_dir.mkdir(parents=True, exist_ok=True)\n",
    "        shutil.copy(manual_intro_md, docs_intro_md)\n",
    "        print(f'Copied `manual/{cur_year}/intro.md` to `docs/{cur_year}/intro.md`.')\n",
    "# create_intro_md()"
   ]
  },
  {
   "source": [
    "## Generate pages to the journal\n",
    "\n",
    "From `manual/{year}/{month}/{day}.md`, generate `docs/{year}/{month_en_lower}/{day}.mdx`\n",
    "\n",
    "Note: Should generate pages ONLY for dates after 2020/3/1 (included)"
   ],
   "cell_type": "markdown",
   "metadata": {}
  },
  {
   "cell_type": "code",
   "execution_count": 82,
   "metadata": {},
   "outputs": [],
   "source": [
    "def generate_a_page(y, m, d):\n",
    "    folder = Path('..', '..', 'docs', str(y), month_en[m-1].lower())\n",
    "    file_name = f'{d}.mdx'\n",
    "    mdx = Path(folder, file_name)\n",
    "\n",
    "    man = manual_content(y, m, d)\n",
    "    mdx_content = start_str(y, m, d) + man # start_str will make sure the input `y, m, d` is of right format\n",
    "\n",
    "    prompt_note = \"\" if man else \" (without manual content)\"\n",
    "    prompt = f'> created mdx for {y}/{m}/{d} in `docs`{prompt_note}'\n",
    "    if Path(mdx).is_file():\n",
    "        prompt = f'> overwrote mdx of {y}/{m}/{d} in `docs`{prompt_note}'\n",
    "\n",
    "    # write file\n",
    "    folder.mkdir(parents=True, exist_ok=True)\n",
    "    with open(mdx, 'w') as f:\n",
    "        f.write(mdx_content)\n",
    "\n",
    "    # print prompt\n",
    "    print(prompt)\n",
    "\n",
    "def generate_pages(s_y, s_m, s_d, e_y, e_m, e_d):\n",
    "    s_dt = date(s_y, s_m, s_d)\n",
    "    e_dt = date(e_y, e_m, e_d)\n",
    "    n_pages = (e_dt - s_dt).days + 1\n",
    "    if n_pages < 2:\n",
    "        raise Exception(\"The ending date should be at least one day after the starting day.\")\n",
    "\n",
    "    prompt = f'writing {n_pages} pages: from {s_y}/{s_m}/{s_d} to {e_y}/{e_m}/{e_d}'\n",
    "    print(f'Start {prompt}...')\n",
    "\n",
    "    dt = s_dt\n",
    "    while (dt != e_dt + one_day):\n",
    "        generate_a_page(dt.year, dt.month, dt.day)\n",
    "        dt += one_day\n",
    "\n",
    "    print(f'Finish {prompt}.')"
   ]
  },
  {
   "source": [
    "## Clear generated pages\n",
    "\n",
    "Delete folders `docs/{year}/` and all their contents"
   ],
   "cell_type": "markdown",
   "metadata": {}
  },
  {
   "cell_type": "code",
   "execution_count": 83,
   "metadata": {},
   "outputs": [],
   "source": [
    "def clear_generated_pages():\n",
    "    print('Start clearing generated files...')\n",
    "    for y in range(start_year, cur_year + 2):\n",
    "        dir_to_delete = Path('..', '..', 'docs', str(y))\n",
    "        if dir_to_delete.is_dir():\n",
    "            shutil.rmtree(dir_to_delete)\n",
    "            print(f\"> deleted folder `{y}` in `docs` (as well as all its contents)\")\n",
    "    print('Finish clearing generated files.')\n",
    "# clear_generated_pages()"
   ]
  },
  {
   "source": [
    "## Execute the `main` function"
   ],
   "cell_type": "markdown",
   "metadata": {}
  },
  {
   "cell_type": "code",
   "execution_count": 84,
   "metadata": {},
   "outputs": [
    {
     "output_type": "stream",
     "name": "stdout",
     "text": [
      "Start clearing generated files...\n> deleted folder `2020` in `docs` (as well as all its contents)\n> deleted folder `2021` in `docs` (as well as all its contents)\nFinish clearing generated files.\n> created mdx for 2020/12/31 in `docs`\n> created mdx for 2020/3/1 in `docs` (without manual content)\n> created mdx for 2020/4/1 in `docs` (without manual content)\n> created mdx for 2020/5/1 in `docs` (without manual content)\n> created mdx for 2020/6/1 in `docs` (without manual content)\n> created mdx for 2020/7/1 in `docs` (without manual content)\n> created mdx for 2020/8/1 in `docs` (without manual content)\n> created mdx for 2020/9/1 in `docs` (without manual content)\n> created mdx for 2020/10/1 in `docs` (without manual content)\n> created mdx for 2020/11/1 in `docs`\n> created mdx for 2020/12/1 in `docs`\n> created mdx for 2021/1/1 in `docs`\n> created mdx for 2021/2/1 in `docs`\n> created mdx for 2021/3/1 in `docs`\n> created mdx for 2021/4/1 in `docs` (without manual content)\nStart writing 4 pages: from 2021/3/2 to 2021/3/5...\n> created mdx for 2021/3/2 in `docs`\n> created mdx for 2021/3/3 in `docs`\n> created mdx for 2021/3/4 in `docs`\n> created mdx for 2021/3/5 in `docs`\nFinish writing 4 pages: from 2021/3/2 to 2021/3/5.\nCopied `manual/2021/intro.md` to `docs/2021/intro.md`.\n"
     ]
    }
   ],
   "source": [
    "def main():\n",
    "    clear_generated_pages()\n",
    "    generate_a_page(2020,12,31)\n",
    "    generate_a_page(2020,3,1)\n",
    "    generate_a_page(2020,4,1)\n",
    "    generate_a_page(2020,5,1)\n",
    "    generate_a_page(2020,6,1)\n",
    "    generate_a_page(2020,7,1)\n",
    "    generate_a_page(2020,8,1)\n",
    "    generate_a_page(2020,9,1)\n",
    "    generate_a_page(2020,10,1)\n",
    "    generate_a_page(2020,11,1)\n",
    "    generate_a_page(2020,12,1)\n",
    "    generate_a_page(2021,1,1)\n",
    "    generate_a_page(2021,2,1)\n",
    "    generate_a_page(2021,3,1)\n",
    "    generate_a_page(2021,4,1)\n",
    "    generate_pages(2021,3,2,2021,3,5)\n",
    "    # generate_pages(2020,3,1,2021,3,29)\n",
    "    create_intro_md()\n",
    "    \n",
    "main()"
   ]
  }
 ]
}