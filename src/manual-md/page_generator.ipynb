{
 "metadata": {
  "language_info": {
   "codemirror_mode": {
    "name": "ipython",
    "version": 3
   },
   "file_extension": ".py",
   "mimetype": "text/x-python",
   "name": "python",
   "nbconvert_exporter": "python",
   "pygments_lexer": "ipython3",
   "version": "3.8.5-final"
  },
  "orig_nbformat": 2,
  "kernelspec": {
   "name": "python3",
   "display_name": "Python 3.8.5 64-bit ('covid-19-in-france': pipenv)",
   "metadata": {
    "interpreter": {
     "hash": "8c9788e7b8c462d723a90042bcfd8968aadf78e683c0f6c091bc27b97b6b3c60"
    }
   }
  }
 },
 "nbformat": 4,
 "nbformat_minor": 2,
 "cells": [
  {
   "cell_type": "code",
   "execution_count": 21,
   "metadata": {},
   "outputs": [],
   "source": [
    "# if this is a py file, it's generated from notebook (ipynb file)\n",
    "\n",
    "from pathlib import Path\n",
    "from datetime import date, timedelta\n",
    "\n",
    "journal_start = date(2020, 3, 1)\n",
    "one_day = timedelta(days=1)\n",
    " # not using strftime(\"%B\") for months since it depends on the current locale\n",
    "month_en = ('January', 'February', 'March', 'April', 'May', 'June', 'July', 'August', 'September', 'October', 'November', 'December')\n",
    "weekday_zh_hant = ('週一', '週二', '週三', '週四', '週五', '週六', '週日')"
   ]
  },
  {
   "cell_type": "code",
   "execution_count": 22,
   "metadata": {},
   "outputs": [],
   "source": [
    "def path_manual(y, m, d):\n",
    "    return Path('manual', str(y), str(m), f'{d}.md')\n",
    "\n",
    "def manual_content(y, m, d):\n",
    "    md_file = path_manual(y, m, d)\n",
    "    if Path(md_file).is_file():\n",
    "        with open(md_file, 'r') as f:\n",
    "            content = f.read()\n",
    "        return content\n",
    "    else:\n",
    "        return \"\"\n",
    "# manual_content(2021,3,1)"
   ]
  },
  {
   "cell_type": "code",
   "execution_count": 23,
   "metadata": {},
   "outputs": [],
   "source": [
    "def start_str(y, m, d):\n",
    "    '''Return the starting string for the page of y/m/d'''\n",
    "    dt = date(y, m, d)\n",
    "\n",
    "    front_matter = f'''---\n",
    "title: {m} 月 {d} 號（{weekday_zh_hant[dt.weekday()]}）\n",
    "description: {y} 年 {m} 月 {d} 日法國新冠肺炎疫情匯報。法國 COVID-19 日誌第 {(dt - journal_start).days + 1} 篇。\n",
    "---\n",
    "'''\n",
    "    export_import = f'''\n",
    "export const date = \"{dt.strftime('%Y-%m-%d')}\";\n",
    "import {{ Subtitle, Grace, Fish, OfficialData, SourceFb, Figure }} from \"@site/src/scripts/components\";\n",
    "'''\n",
    "    subtitle = '''\n",
    "<Subtitle date={date} />\n",
    "'''\n",
    "    official_data='''\n",
    "## 法國官方數據 {#official-data}\n",
    "\n",
    "<OfficialData date={date} />\n",
    "'''\n",
    "    main_img = '''\n",
    "<Figure date={date}></Figure>\n",
    "'''\n",
    "    news_header = '''\n",
    "<SourceFb date={date} />\n",
    "\n",
    "## 本日新聞重點 {#new}\n",
    "'''\n",
    "    news_header = news_header + \"\\n\" if path_manual(y, m, d).is_file() else \"\"\n",
    "\n",
    "    if dt == date(2020,3,1):\n",
    "        return  front_matter + export_import + subtitle + main_img\n",
    "    else:\n",
    "        return front_matter + export_import + subtitle + main_img + official_data + news_header\n",
    "# print(start_str(2020,3,2))"
   ]
  },
  {
   "source": [
    "## Generate pages to the journal\n",
    "\n",
    "Generate pages ONLY for dates after 2020/3/1 (included)"
   ],
   "cell_type": "markdown",
   "metadata": {}
  },
  {
   "cell_type": "code",
   "execution_count": 24,
   "metadata": {},
   "outputs": [],
   "source": [
    "def generate_a_page(y, m, d):\n",
    "    folder = Path('..', '..', 'docs', str(y), month_en[m-1].lower())\n",
    "    file_name = f'{d}.mdx'\n",
    "    mdx = Path(folder, file_name)\n",
    "\n",
    "    man = manual_content(y, m, d)\n",
    "    mdx_content = start_str(y, m, d) + man # start_str will make sure the input `y, m, d` is of right format\n",
    "\n",
    "    prompt_note = \"\" if man else \" (without manual content)\"\n",
    "    prompt = f'> created mdx for {y}/{m}/{d} in `docs`{prompt_note}'\n",
    "    if Path(mdx).is_file():\n",
    "        prompt = f'> overwrote mdx of {y}/{m}/{d} in `docs`{prompt_note}'\n",
    "\n",
    "    # write file\n",
    "    folder.mkdir(parents=True, exist_ok=True)\n",
    "    with open(mdx, 'w') as f:\n",
    "        f.write(mdx_content)\n",
    "\n",
    "    # print prompt\n",
    "    print(prompt)\n",
    "\n",
    "def generate_pages(s_y, s_m, s_d, e_y, e_m, e_d):\n",
    "    s_dt = date(s_y, s_m, s_d)\n",
    "    e_dt = date(e_y, e_m, e_d)\n",
    "    n_pages = (e_dt - s_dt).days + 1\n",
    "    if n_pages < 2:\n",
    "        raise Exception(\"The ending date should be at least one day after the starting day.\")\n",
    "\n",
    "    prompt = f'writing {n_pages} pages: from {s_y}/{s_m}/{s_d} to {e_y}/{e_m}/{e_d}'\n",
    "    print(f'Start {prompt}')\n",
    "\n",
    "    dt = s_dt\n",
    "    while (dt != e_dt + one_day):\n",
    "        generate_a_page(dt.year, dt.month, dt.day)\n",
    "        dt += one_day\n",
    "\n",
    "    print(f'Finish {prompt}')"
   ]
  },
  {
   "cell_type": "code",
   "execution_count": 25,
   "metadata": {},
   "outputs": [
    {
     "output_type": "stream",
     "name": "stdout",
     "text": [
      "> created mdx for 2020/12/31 in `docs`\n> created mdx for 2020/3/1 in `docs` (without manual content)\n> created mdx for 2020/4/1 in `docs` (without manual content)\n> created mdx for 2020/5/1 in `docs` (without manual content)\n> created mdx for 2020/6/1 in `docs` (without manual content)\n> created mdx for 2020/7/1 in `docs` (without manual content)\n> created mdx for 2020/8/1 in `docs` (without manual content)\n> created mdx for 2020/9/1 in `docs` (without manual content)\n> created mdx for 2020/10/1 in `docs` (without manual content)\n> created mdx for 2020/11/1 in `docs`\n> created mdx for 2020/12/1 in `docs`\n> created mdx for 2021/1/1 in `docs`\n> created mdx for 2021/2/1 in `docs`\n> created mdx for 2021/3/1 in `docs`\n> created mdx for 2021/4/1 in `docs` (without manual content)\nStart writing 4 pages: from 2021/3/2 to 2021/3/5\n> created mdx for 2021/3/2 in `docs`\n> created mdx for 2021/3/3 in `docs`\n> created mdx for 2021/3/4 in `docs`\n> created mdx for 2021/3/5 in `docs`\nFinish writing 4 pages: from 2021/3/2 to 2021/3/5\n"
     ]
    }
   ],
   "source": [
    "generate_a_page(2020,12,31)\n",
    "generate_a_page(2020,3,1)\n",
    "generate_a_page(2020,4,1)\n",
    "generate_a_page(2020,5,1)\n",
    "generate_a_page(2020,6,1)\n",
    "generate_a_page(2020,7,1)\n",
    "generate_a_page(2020,8,1)\n",
    "generate_a_page(2020,9,1)\n",
    "generate_a_page(2020,10,1)\n",
    "generate_a_page(2020,11,1)\n",
    "generate_a_page(2020,12,1)\n",
    "generate_a_page(2021,1,1)\n",
    "generate_a_page(2021,2,1)\n",
    "generate_a_page(2021,3,1)\n",
    "generate_a_page(2021,4,1)\n",
    "generate_pages(2021,3,2,2021,3,5)\n",
    "# generate_pages(2020,3,1,2021,3,29)\n"
   ]
  },
  {
   "cell_type": "code",
   "execution_count": null,
   "metadata": {},
   "outputs": [],
   "source": []
  }
 ]
}